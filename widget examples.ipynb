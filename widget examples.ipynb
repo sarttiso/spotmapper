{
 "cells": [
  {
   "cell_type": "markdown",
   "id": "2760796d-1253-4eb8-8fa7-35628f435314",
   "metadata": {},
   "source": [
    "# Widget Examples"
   ]
  },
  {
   "cell_type": "markdown",
   "id": "e58372fb-4029-438d-8599-dbcf93906a47",
   "metadata": {},
   "source": [
    "This notebook presents exmples for utilizing the widgets that are in the `spotmapper` module. These widgets are quite specific to the instruments in the [UCSB LASS Petrochronology lab](https://www.petrochronology.com).\n",
    "\n",
    "These examples utilize some example files in the `example data/` directory."
   ]
  },
  {
   "cell_type": "code",
   "execution_count": 1,
   "id": "9e85ab07-fd90-47c4-9bb3-1ad8d63e8046",
   "metadata": {},
   "outputs": [],
   "source": [
    "from spotmapper import spotmapper"
   ]
  },
  {
   "cell_type": "markdown",
   "id": "7b7e6bf0-b9ad-4e1e-a0e2-9ec785ec2a44",
   "metadata": {},
   "source": [
    "## Scalebar Sizing"
   ]
  },
  {
   "cell_type": "markdown",
   "id": "63d2c09c-95ce-4d7a-a11b-c2a4857ce7f6",
   "metadata": {},
   "source": [
    "If you need to know how many pixels correspond to a micron for SEM imagery, you can use the `spotmapper.um2px_widget_generator()` function. "
   ]
  },
  {
   "cell_type": "code",
   "execution_count": 2,
   "id": "d4f0d1ab-d4ea-47f5-9537-4f69262694dc",
   "metadata": {},
   "outputs": [
    {
     "data": {
      "application/vnd.jupyter.widget-view+json": {
       "model_id": "a3ad615d26d04dc28b0f0f0291d12725",
       "version_major": 2,
       "version_minor": 0
      },
      "text/plain": [
       "VBox(children=(HBox(children=(Dropdown(options=(('AT2310_16_4_L_2.xml', WindowsPath('example data/CL/AT2310_16…"
      ]
     },
     "execution_count": 2,
     "metadata": {},
     "output_type": "execute_result"
    }
   ],
   "source": [
    "spotmapper.um2px_widget_generator('example data/')"
   ]
  },
  {
   "cell_type": "markdown",
   "id": "ebe40442-0a90-4b2c-b636-c87edd940e92",
   "metadata": {},
   "source": [
    "## Plotting Spot Locations"
   ]
  },
  {
   "cell_type": "markdown",
   "id": "d1d1b103-12c2-4df5-b97f-a0a2662aff0c",
   "metadata": {},
   "source": [
    "If you want to plot the locations of spots from a laser experiment, as recorded in an iolite laser log file, you can use the `spotmapper.iolog_plot_widget_generator()` function.\n",
    "\n",
    "This function allows you to select an experiment from all iolite laser log files found in the given directory. You may additional filter spots by their comments."
   ]
  },
  {
   "cell_type": "code",
   "execution_count": 3,
   "id": "573ea105-f586-4a15-95bd-e6554e5e6f46",
   "metadata": {},
   "outputs": [
    {
     "data": {
      "application/vnd.jupyter.widget-view+json": {
       "model_id": "3c35acf881564d46a3c3ce522b4d6d69",
       "version_major": 2,
       "version_minor": 0
      },
      "text/plain": [
       "VBox(children=(HBox(children=(Dropdown(options=(('run_1.Iolite.csv', WindowsPath('example data/iolite laser lo…"
      ]
     },
     "execution_count": 3,
     "metadata": {},
     "output_type": "execute_result"
    }
   ],
   "source": [
    "spotmapper.iolog_plot_widget_generator('example data/')"
   ]
  }
 ],
 "metadata": {
  "kernelspec": {
   "display_name": "Python 3 (ipykernel)",
   "language": "python",
   "name": "python3"
  },
  "language_info": {
   "codemirror_mode": {
    "name": "ipython",
    "version": 3
   },
   "file_extension": ".py",
   "mimetype": "text/x-python",
   "name": "python",
   "nbconvert_exporter": "python",
   "pygments_lexer": "ipython3",
   "version": "3.9.13"
  }
 },
 "nbformat": 4,
 "nbformat_minor": 5
}
